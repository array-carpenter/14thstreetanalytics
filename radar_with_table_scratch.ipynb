{
 "cells": [
  {
   "cell_type": "code",
   "execution_count": 11,
   "metadata": {},
   "outputs": [
    {
     "ename": "FileNotFoundError",
     "evalue": "[WinError 2] The system cannot find the file specified: 'C:\\\\Users\\\\RaymondCarpenter\\\\AppData\\\\Roaming\\\\Python\\\\Python39\\\\site-packages\\\\matplotlib.libs'",
     "output_type": "error",
     "traceback": [
      "\u001b[1;31m---------------------------------------------------------------------------\u001b[0m",
      "\u001b[1;31mFileNotFoundError\u001b[0m                         Traceback (most recent call last)",
      "Input \u001b[1;32mIn [11]\u001b[0m, in \u001b[0;36m<cell line: 3>\u001b[1;34m()\u001b[0m\n\u001b[0;32m      1\u001b[0m \u001b[38;5;28;01mimport\u001b[39;00m \u001b[38;5;21;01mpandas\u001b[39;00m \u001b[38;5;28;01mas\u001b[39;00m \u001b[38;5;21;01mpd\u001b[39;00m \n\u001b[0;32m      2\u001b[0m \u001b[38;5;28;01mimport\u001b[39;00m \u001b[38;5;21;01mnumpy\u001b[39;00m \u001b[38;5;28;01mas\u001b[39;00m \u001b[38;5;21;01mnp\u001b[39;00m\n\u001b[1;32m----> 3\u001b[0m \u001b[38;5;28;01mimport\u001b[39;00m \u001b[38;5;21;01mmatplotlib\u001b[39;00m\u001b[38;5;21;01m.\u001b[39;00m\u001b[38;5;21;01mpyplot\u001b[39;00m \u001b[38;5;28;01mas\u001b[39;00m \u001b[38;5;21;01mplt\u001b[39;00m\n\u001b[0;32m      4\u001b[0m \u001b[38;5;28;01mfrom\u001b[39;00m \u001b[38;5;21;01mmplsoccer\u001b[39;00m \u001b[38;5;28;01mimport\u001b[39;00m radar_chart, Radar, FontManager, grid\n\u001b[0;32m      5\u001b[0m \u001b[38;5;28;01mfrom\u001b[39;00m \u001b[38;5;21;01mhighlight_text\u001b[39;00m \u001b[38;5;28;01mimport\u001b[39;00m fig_text\n",
      "File \u001b[1;32m~\\AppData\\Roaming\\Python\\Python39\\site-packages\\matplotlib\\__init__.py:130\u001b[0m, in \u001b[0;36m<module>\u001b[1;34m\u001b[0m\n\u001b[0;32m    126\u001b[0m                 \u001b[38;5;28;01mif\u001b[39;00m (\u001b[38;5;129;01mnot\u001b[39;00m is_pyinstaller \u001b[38;5;129;01mor\u001b[39;00m os\u001b[38;5;241m.\u001b[39mpath\u001b[38;5;241m.\u001b[39misfile(lib_path)) \u001b[38;5;129;01mand\u001b[39;00m \u001b[38;5;129;01mnot\u001b[39;00m ctypes\u001b[38;5;241m.\u001b[39mwindll\u001b[38;5;241m.\u001b[39mkernel32\u001b[38;5;241m.\u001b[39mLoadLibraryExW(ctypes\u001b[38;5;241m.\u001b[39mc_wchar_p(lib_path), \u001b[38;5;28;01mNone\u001b[39;00m, \u001b[38;5;241m0x00000008\u001b[39m):\n\u001b[0;32m    127\u001b[0m                     \u001b[38;5;28;01mraise\u001b[39;00m \u001b[38;5;167;01mOSError\u001b[39;00m(\u001b[38;5;124m'\u001b[39m\u001b[38;5;124mError loading \u001b[39m\u001b[38;5;132;01m{}\u001b[39;00m\u001b[38;5;124m; \u001b[39m\u001b[38;5;132;01m{}\u001b[39;00m\u001b[38;5;124m'\u001b[39m\u001b[38;5;241m.\u001b[39mformat(lib, ctypes\u001b[38;5;241m.\u001b[39mFormatError()))\n\u001b[1;32m--> 130\u001b[0m \u001b[43m_delvewheel_init_patch_1_3_3\u001b[49m\u001b[43m(\u001b[49m\u001b[43m)\u001b[49m\n\u001b[0;32m    131\u001b[0m \u001b[38;5;28;01mdel\u001b[39;00m _delvewheel_init_patch_1_3_3\n\u001b[0;32m    132\u001b[0m \u001b[38;5;66;03m# end delvewheel patch\u001b[39;00m\n",
      "File \u001b[1;32m~\\AppData\\Roaming\\Python\\Python39\\site-packages\\matplotlib\\__init__.py:118\u001b[0m, in \u001b[0;36m_delvewheel_init_patch_1_3_3\u001b[1;34m()\u001b[0m\n\u001b[0;32m    116\u001b[0m \u001b[38;5;28;01mif\u001b[39;00m sys\u001b[38;5;241m.\u001b[39mversion_info[:\u001b[38;5;241m2\u001b[39m] \u001b[38;5;241m>\u001b[39m\u001b[38;5;241m=\u001b[39m (\u001b[38;5;241m3\u001b[39m, \u001b[38;5;241m8\u001b[39m) \u001b[38;5;129;01mand\u001b[39;00m \u001b[38;5;129;01mnot\u001b[39;00m is_conda_cpython \u001b[38;5;129;01mor\u001b[39;00m sys\u001b[38;5;241m.\u001b[39mversion_info[:\u001b[38;5;241m2\u001b[39m] \u001b[38;5;241m>\u001b[39m\u001b[38;5;241m=\u001b[39m (\u001b[38;5;241m3\u001b[39m, \u001b[38;5;241m10\u001b[39m):\n\u001b[0;32m    117\u001b[0m     \u001b[38;5;28;01mif\u001b[39;00m \u001b[38;5;129;01mnot\u001b[39;00m is_pyinstaller \u001b[38;5;129;01mor\u001b[39;00m os\u001b[38;5;241m.\u001b[39mpath\u001b[38;5;241m.\u001b[39misdir(libs_dir):\n\u001b[1;32m--> 118\u001b[0m         \u001b[43mos\u001b[49m\u001b[38;5;241;43m.\u001b[39;49m\u001b[43madd_dll_directory\u001b[49m\u001b[43m(\u001b[49m\u001b[43mlibs_dir\u001b[49m\u001b[43m)\u001b[49m\n\u001b[0;32m    119\u001b[0m \u001b[38;5;28;01melse\u001b[39;00m:\n\u001b[0;32m    120\u001b[0m     load_order_filepath \u001b[38;5;241m=\u001b[39m os\u001b[38;5;241m.\u001b[39mpath\u001b[38;5;241m.\u001b[39mjoin(libs_dir, \u001b[38;5;124m'\u001b[39m\u001b[38;5;124m.load-order-matplotlib-3.7.1\u001b[39m\u001b[38;5;124m'\u001b[39m)\n",
      "File \u001b[1;32mc:\\Users\\RaymondCarpenter\\AppData\\Local\\Programs\\Python\\Python39\\lib\\os.py:1111\u001b[0m, in \u001b[0;36madd_dll_directory\u001b[1;34m(path)\u001b[0m\n\u001b[0;32m   1101\u001b[0m \u001b[38;5;124;03m\"\"\"Add a path to the DLL search path.\u001b[39;00m\n\u001b[0;32m   1102\u001b[0m \n\u001b[0;32m   1103\u001b[0m \u001b[38;5;124;03mThis search path is used when resolving dependencies for imported\u001b[39;00m\n\u001b[1;32m   (...)\u001b[0m\n\u001b[0;32m   1108\u001b[0m \u001b[38;5;124;03musing it in a with statement.\u001b[39;00m\n\u001b[0;32m   1109\u001b[0m \u001b[38;5;124;03m\"\"\"\u001b[39;00m\n\u001b[0;32m   1110\u001b[0m \u001b[38;5;28;01mimport\u001b[39;00m \u001b[38;5;21;01mnt\u001b[39;00m\n\u001b[1;32m-> 1111\u001b[0m cookie \u001b[38;5;241m=\u001b[39m \u001b[43mnt\u001b[49m\u001b[38;5;241;43m.\u001b[39;49m\u001b[43m_add_dll_directory\u001b[49m\u001b[43m(\u001b[49m\u001b[43mpath\u001b[49m\u001b[43m)\u001b[49m\n\u001b[0;32m   1112\u001b[0m \u001b[38;5;28;01mreturn\u001b[39;00m _AddedDllDirectory(\n\u001b[0;32m   1113\u001b[0m     path,\n\u001b[0;32m   1114\u001b[0m     cookie,\n\u001b[0;32m   1115\u001b[0m     nt\u001b[38;5;241m.\u001b[39m_remove_dll_directory\n\u001b[0;32m   1116\u001b[0m )\n",
      "\u001b[1;31mFileNotFoundError\u001b[0m: [WinError 2] The system cannot find the file specified: 'C:\\\\Users\\\\RaymondCarpenter\\\\AppData\\\\Roaming\\\\Python\\\\Python39\\\\site-packages\\\\matplotlib.libs'"
     ]
    }
   ],
   "source": [
    "import pandas as pd \n",
    "import numpy as np\n",
    "import matplotlib.pyplot as plt\n",
    "from mplsoccer import radar_chart, Radar, FontManager, grid\n",
    "from highlight_text import fig_text\n",
    "\n",
    "# Define the data with the updated structure\n",
    "data = {\n",
    "    'Metric': ['Team', 'Season', 'Pass Efficiency', 'Final 3rd Entries', 'Progressive Passes', 'Open Play xG Assisted', \n",
    "               'Attack Value Added', 'Dribble Completed', 'Progressive Carries', 'Turnovers', 'Padj Tackles', 'Drib Past %', \n",
    "               'Padj Interceptions', 'Padj Fouls', 'Padj Ball Recoveries'],\n",
    "    'Kobbie Mainoo': ['Manchester United', '2023-2024', 1.01, 1.64, 2.04, 0.03, 0.02, 0.37, 1.38, 0.25, 1.2, 4.9, 2.95, 1.8, 4.89],\n",
    "    'David Costas': ['Celta Vigo', '2013-2014', 1.03, 1.48, 1.88, 0.0, 0.0, 2.22, 1.56, 0.21, 1.45, 3.95, 2.93, 1.59, 3.69],\n",
    "    'Alois Confais': ['Troyes', '2015-2016', 1.02, 3.41, 2.31, 0.01, 0.0, 1.82, 1.85, 0.24, 1.29, 4.15, 2.35, 1.62, 6.19],\n",
    "    'Tiemoué Bakayoko': ['Rennes', '2013-2014', 1.02, 1.66, 1.82, 0.02, 0.01, 1.79, 1.63, 0.31, 1.47, 3.52, 2.81, 1.86, 6.37],\n",
    "    'Ismaël Doukouré': ['Strasbourg', '2022-2023', 1.07, 4.24, 3.49, 0.05, 0.02, 1.17, 2.72, 0.2, 2.08, 5.34, 4.1, 2.64, 6.47],\n",
    "    'Pape Sarr': ['Metz', '2022-2022', 1.06, 3.22, 3.06, 0.08, 0.03, 1.63, 1.92, 0.22, 1.58, 4.41, 3.28, 2.02, 7.47]\n",
    "}\n",
    "\n",
    "# Create a DataFrame\n",
    "df = pd.DataFrame(data)\n",
    "\n",
    "# Function to plot radar charts\n",
    "def plot_radar(ax, data):\n",
    "    num_vars = len(data)\n",
    "    angles = np.linspace(0, 2 * np.pi, num_vars, endpoint=False).tolist()\n",
    "    data += data[:1]\n",
    "    angles += angles[:1]\n",
    "\n",
    "    ax.fill(angles, data, color='red', alpha=0.25)\n",
    "    ax.plot(angles, data, color='red', linewidth=2)\n",
    "    ax.set_yticklabels([])\n",
    "    ax.set_xticks([])\n",
    "\n",
    "# Apply the 'fivethirtyeight' style\n",
    "plt.style.use('fivethirtyeight')\n",
    "\n",
    "# Define the number of charts\n",
    "num_charts = len(df.columns) - 1  # subtracting the 'Metric' column\n",
    "\n",
    "# Create subplots\n",
    "fig = plt.figure(figsize=(22, 18), tight_layout=True)\n",
    "gs = fig.add_gridspec(5, num_charts)\n",
    "\n",
    "# Add title\n",
    "ax_title = fig.add_subplot(gs[0, :])\n",
    "ax_title.text(0.5, 0.5, 'Similar to: Kobbie Mainoo\\nManchester United | Premier League | Season 2023-2024 | Age: 19.0 | 90\\'s Played: 13.4\\nLeagues: Big Five Leagues\\nAt the same age', \n",
    "              horizontalalignment='center', verticalalignment='center', fontsize=16, fontweight='bold')\n",
    "ax_title.axis('off')\n",
    "\n",
    "# Plot radar charts for each player\n",
    "for i in range(1, len(df.columns)):\n",
    "    radar_ax = fig.add_subplot(gs[1:3, i-1], polar=True)\n",
    "    player_data = df.iloc[2:, i].values.tolist()  # Only numeric data for radar\n",
    "    plot_radar(radar_ax, player_data)\n",
    "    radar_ax.set_title(df.columns[i], size=12, y=1.1)\n",
    "\n",
    "# Add the table beneath the radar charts\n",
    "ax_table = fig.add_subplot(gs[3:, :])\n",
    "ax_table.axis('off')\n",
    "table = ax_table.table(cellText=df.values, colLabels=df.columns, cellLoc='center', loc='center', colColours=['#f2f2f2']*len(df.columns))\n",
    "table.auto_set_font_size(False)\n",
    "table.set_fontsize(10)\n",
    "table.auto_set_column_width(col=list(range(len(df.columns))))\n",
    "\n",
    "plt.subplots_adjust(top=0.85, bottom=0.15, hspace=0.2)\n",
    "plt.show()\n"
   ]
  },
  {
   "cell_type": "code",
   "execution_count": 12,
   "metadata": {},
   "outputs": [
    {
     "ename": "FileNotFoundError",
     "evalue": "[WinError 2] The system cannot find the file specified: 'C:\\\\Users\\\\RaymondCarpenter\\\\AppData\\\\Roaming\\\\Python\\\\Python39\\\\site-packages\\\\matplotlib.libs'",
     "output_type": "error",
     "traceback": [
      "\u001b[1;31m---------------------------------------------------------------------------\u001b[0m",
      "\u001b[1;31mFileNotFoundError\u001b[0m                         Traceback (most recent call last)",
      "Input \u001b[1;32mIn [12]\u001b[0m, in \u001b[0;36m<cell line: 1>\u001b[1;34m()\u001b[0m\n\u001b[1;32m----> 1\u001b[0m \u001b[38;5;28;01mimport\u001b[39;00m \u001b[38;5;21;01mmatplotlib\u001b[39;00m \u001b[38;5;28;01mas\u001b[39;00m \u001b[38;5;21;01mmpl\u001b[39;00m\n\u001b[0;32m      2\u001b[0m mpl\u001b[38;5;241m.\u001b[39mget_configdir()\n",
      "File \u001b[1;32m~\\AppData\\Roaming\\Python\\Python39\\site-packages\\matplotlib\\__init__.py:130\u001b[0m, in \u001b[0;36m<module>\u001b[1;34m\u001b[0m\n\u001b[0;32m    126\u001b[0m                 \u001b[38;5;28;01mif\u001b[39;00m (\u001b[38;5;129;01mnot\u001b[39;00m is_pyinstaller \u001b[38;5;129;01mor\u001b[39;00m os\u001b[38;5;241m.\u001b[39mpath\u001b[38;5;241m.\u001b[39misfile(lib_path)) \u001b[38;5;129;01mand\u001b[39;00m \u001b[38;5;129;01mnot\u001b[39;00m ctypes\u001b[38;5;241m.\u001b[39mwindll\u001b[38;5;241m.\u001b[39mkernel32\u001b[38;5;241m.\u001b[39mLoadLibraryExW(ctypes\u001b[38;5;241m.\u001b[39mc_wchar_p(lib_path), \u001b[38;5;28;01mNone\u001b[39;00m, \u001b[38;5;241m0x00000008\u001b[39m):\n\u001b[0;32m    127\u001b[0m                     \u001b[38;5;28;01mraise\u001b[39;00m \u001b[38;5;167;01mOSError\u001b[39;00m(\u001b[38;5;124m'\u001b[39m\u001b[38;5;124mError loading \u001b[39m\u001b[38;5;132;01m{}\u001b[39;00m\u001b[38;5;124m; \u001b[39m\u001b[38;5;132;01m{}\u001b[39;00m\u001b[38;5;124m'\u001b[39m\u001b[38;5;241m.\u001b[39mformat(lib, ctypes\u001b[38;5;241m.\u001b[39mFormatError()))\n\u001b[1;32m--> 130\u001b[0m \u001b[43m_delvewheel_init_patch_1_3_3\u001b[49m\u001b[43m(\u001b[49m\u001b[43m)\u001b[49m\n\u001b[0;32m    131\u001b[0m \u001b[38;5;28;01mdel\u001b[39;00m _delvewheel_init_patch_1_3_3\n\u001b[0;32m    132\u001b[0m \u001b[38;5;66;03m# end delvewheel patch\u001b[39;00m\n",
      "File \u001b[1;32m~\\AppData\\Roaming\\Python\\Python39\\site-packages\\matplotlib\\__init__.py:118\u001b[0m, in \u001b[0;36m_delvewheel_init_patch_1_3_3\u001b[1;34m()\u001b[0m\n\u001b[0;32m    116\u001b[0m \u001b[38;5;28;01mif\u001b[39;00m sys\u001b[38;5;241m.\u001b[39mversion_info[:\u001b[38;5;241m2\u001b[39m] \u001b[38;5;241m>\u001b[39m\u001b[38;5;241m=\u001b[39m (\u001b[38;5;241m3\u001b[39m, \u001b[38;5;241m8\u001b[39m) \u001b[38;5;129;01mand\u001b[39;00m \u001b[38;5;129;01mnot\u001b[39;00m is_conda_cpython \u001b[38;5;129;01mor\u001b[39;00m sys\u001b[38;5;241m.\u001b[39mversion_info[:\u001b[38;5;241m2\u001b[39m] \u001b[38;5;241m>\u001b[39m\u001b[38;5;241m=\u001b[39m (\u001b[38;5;241m3\u001b[39m, \u001b[38;5;241m10\u001b[39m):\n\u001b[0;32m    117\u001b[0m     \u001b[38;5;28;01mif\u001b[39;00m \u001b[38;5;129;01mnot\u001b[39;00m is_pyinstaller \u001b[38;5;129;01mor\u001b[39;00m os\u001b[38;5;241m.\u001b[39mpath\u001b[38;5;241m.\u001b[39misdir(libs_dir):\n\u001b[1;32m--> 118\u001b[0m         \u001b[43mos\u001b[49m\u001b[38;5;241;43m.\u001b[39;49m\u001b[43madd_dll_directory\u001b[49m\u001b[43m(\u001b[49m\u001b[43mlibs_dir\u001b[49m\u001b[43m)\u001b[49m\n\u001b[0;32m    119\u001b[0m \u001b[38;5;28;01melse\u001b[39;00m:\n\u001b[0;32m    120\u001b[0m     load_order_filepath \u001b[38;5;241m=\u001b[39m os\u001b[38;5;241m.\u001b[39mpath\u001b[38;5;241m.\u001b[39mjoin(libs_dir, \u001b[38;5;124m'\u001b[39m\u001b[38;5;124m.load-order-matplotlib-3.7.1\u001b[39m\u001b[38;5;124m'\u001b[39m)\n",
      "File \u001b[1;32mc:\\Users\\RaymondCarpenter\\AppData\\Local\\Programs\\Python\\Python39\\lib\\os.py:1111\u001b[0m, in \u001b[0;36madd_dll_directory\u001b[1;34m(path)\u001b[0m\n\u001b[0;32m   1101\u001b[0m \u001b[38;5;124;03m\"\"\"Add a path to the DLL search path.\u001b[39;00m\n\u001b[0;32m   1102\u001b[0m \n\u001b[0;32m   1103\u001b[0m \u001b[38;5;124;03mThis search path is used when resolving dependencies for imported\u001b[39;00m\n\u001b[1;32m   (...)\u001b[0m\n\u001b[0;32m   1108\u001b[0m \u001b[38;5;124;03musing it in a with statement.\u001b[39;00m\n\u001b[0;32m   1109\u001b[0m \u001b[38;5;124;03m\"\"\"\u001b[39;00m\n\u001b[0;32m   1110\u001b[0m \u001b[38;5;28;01mimport\u001b[39;00m \u001b[38;5;21;01mnt\u001b[39;00m\n\u001b[1;32m-> 1111\u001b[0m cookie \u001b[38;5;241m=\u001b[39m \u001b[43mnt\u001b[49m\u001b[38;5;241;43m.\u001b[39;49m\u001b[43m_add_dll_directory\u001b[49m\u001b[43m(\u001b[49m\u001b[43mpath\u001b[49m\u001b[43m)\u001b[49m\n\u001b[0;32m   1112\u001b[0m \u001b[38;5;28;01mreturn\u001b[39;00m _AddedDllDirectory(\n\u001b[0;32m   1113\u001b[0m     path,\n\u001b[0;32m   1114\u001b[0m     cookie,\n\u001b[0;32m   1115\u001b[0m     nt\u001b[38;5;241m.\u001b[39m_remove_dll_directory\n\u001b[0;32m   1116\u001b[0m )\n",
      "\u001b[1;31mFileNotFoundError\u001b[0m: [WinError 2] The system cannot find the file specified: 'C:\\\\Users\\\\RaymondCarpenter\\\\AppData\\\\Roaming\\\\Python\\\\Python39\\\\site-packages\\\\matplotlib.libs'"
     ]
    }
   ],
   "source": [
    "import matplotlib as mpl\n",
    "mpl.get_configdir()\n"
   ]
  },
  {
   "cell_type": "code",
   "execution_count": null,
   "metadata": {},
   "outputs": [],
   "source": []
  },
  {
   "cell_type": "code",
   "execution_count": null,
   "metadata": {},
   "outputs": [],
   "source": []
  },
  {
   "cell_type": "code",
   "execution_count": null,
   "metadata": {},
   "outputs": [],
   "source": []
  },
  {
   "cell_type": "code",
   "execution_count": null,
   "metadata": {},
   "outputs": [],
   "source": []
  }
 ],
 "metadata": {
  "kernelspec": {
   "display_name": "Python 3",
   "language": "python",
   "name": "python3"
  },
  "language_info": {
   "codemirror_mode": {
    "name": "ipython",
    "version": 3
   },
   "file_extension": ".py",
   "mimetype": "text/x-python",
   "name": "python",
   "nbconvert_exporter": "python",
   "pygments_lexer": "ipython3",
   "version": "3.9.13"
  }
 },
 "nbformat": 4,
 "nbformat_minor": 2
}
