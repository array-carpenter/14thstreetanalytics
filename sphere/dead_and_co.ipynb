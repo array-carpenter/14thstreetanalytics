{
 "cells": [
  {
   "cell_type": "code",
   "execution_count": 31,
   "metadata": {
    "vscode": {
     "languageId": "powershell"
    }
   },
   "outputs": [
    {
     "ename": "FileNotFoundError",
     "evalue": "[WinError 2] The system cannot find the file specified: 'C:\\\\Users\\\\RaymondCarpenter\\\\AppData\\\\Roaming\\\\Python\\\\Python39\\\\site-packages\\\\matplotlib.libs'",
     "output_type": "error",
     "traceback": [
      "\u001b[1;31m---------------------------------------------------------------------------\u001b[0m",
      "\u001b[1;31mFileNotFoundError\u001b[0m                         Traceback (most recent call last)",
      "Input \u001b[1;32mIn [31]\u001b[0m, in \u001b[0;36m<cell line: 1>\u001b[1;34m()\u001b[0m\n\u001b[1;32m----> 1\u001b[0m \u001b[38;5;28;01mfrom\u001b[39;00m \u001b[38;5;21;01mmplsoccer\u001b[39;00m \u001b[38;5;28;01mimport\u001b[39;00m PyPizza, add_image\n\u001b[0;32m      2\u001b[0m \u001b[38;5;28;01mimport\u001b[39;00m \u001b[38;5;21;01mpandas\u001b[39;00m \u001b[38;5;28;01mas\u001b[39;00m \u001b[38;5;21;01mpd\u001b[39;00m\n\u001b[0;32m      3\u001b[0m \u001b[38;5;28;01mimport\u001b[39;00m \u001b[38;5;21;01mmatplotlib\u001b[39;00m\u001b[38;5;21;01m.\u001b[39;00m\u001b[38;5;21;01mpyplot\u001b[39;00m \u001b[38;5;28;01mas\u001b[39;00m \u001b[38;5;21;01mplt\u001b[39;00m\n",
      "File \u001b[1;32mc:\\Users\\RaymondCarpenter\\AppData\\Local\\Programs\\Python\\Python39\\lib\\site-packages\\mplsoccer\\__init__.py:6\u001b[0m, in \u001b[0;36m<module>\u001b[1;34m\u001b[0m\n\u001b[0;32m      4\u001b[0m \u001b[38;5;28;01mfrom\u001b[39;00m \u001b[38;5;21;01m.\u001b[39;00m\u001b[38;5;21;01m__about__\u001b[39;00m \u001b[38;5;28;01mimport\u001b[39;00m __version__\n\u001b[0;32m      5\u001b[0m \u001b[38;5;28;01mfrom\u001b[39;00m \u001b[38;5;21;01m.\u001b[39;00m\u001b[38;5;21;01mstatsbomb\u001b[39;00m \u001b[38;5;28;01mimport\u001b[39;00m Sbopen, Sbapi,  Sblocal\n\u001b[1;32m----> 6\u001b[0m \u001b[38;5;28;01mfrom\u001b[39;00m \u001b[38;5;21;01m.\u001b[39;00m\u001b[38;5;21;01mcm\u001b[39;00m \u001b[38;5;28;01mimport\u001b[39;00m \u001b[38;5;241m*\u001b[39m\n\u001b[0;32m      7\u001b[0m \u001b[38;5;28;01mfrom\u001b[39;00m \u001b[38;5;21;01m.\u001b[39;00m\u001b[38;5;21;01mlinecollection\u001b[39;00m \u001b[38;5;28;01mimport\u001b[39;00m \u001b[38;5;241m*\u001b[39m\n\u001b[0;32m      8\u001b[0m \u001b[38;5;28;01mfrom\u001b[39;00m \u001b[38;5;21;01m.\u001b[39;00m\u001b[38;5;21;01mpitch\u001b[39;00m \u001b[38;5;28;01mimport\u001b[39;00m \u001b[38;5;241m*\u001b[39m\n",
      "File \u001b[1;32mc:\\Users\\RaymondCarpenter\\AppData\\Local\\Programs\\Python\\Python39\\lib\\site-packages\\mplsoccer\\cm.py:4\u001b[0m, in \u001b[0;36m<module>\u001b[1;34m\u001b[0m\n\u001b[0;32m      1\u001b[0m \u001b[38;5;124;03m\"\"\" Colormap functions.\"\"\"\u001b[39;00m\n\u001b[0;32m      3\u001b[0m \u001b[38;5;28;01mimport\u001b[39;00m \u001b[38;5;21;01mnumpy\u001b[39;00m \u001b[38;5;28;01mas\u001b[39;00m \u001b[38;5;21;01mnp\u001b[39;00m\n\u001b[1;32m----> 4\u001b[0m \u001b[38;5;28;01mfrom\u001b[39;00m \u001b[38;5;21;01mmatplotlib\u001b[39;00m \u001b[38;5;28;01mimport\u001b[39;00m colormaps\n\u001b[0;32m      5\u001b[0m \u001b[38;5;28;01mfrom\u001b[39;00m \u001b[38;5;21;01mmatplotlib\u001b[39;00m\u001b[38;5;21;01m.\u001b[39;00m\u001b[38;5;21;01mcolors\u001b[39;00m \u001b[38;5;28;01mimport\u001b[39;00m LinearSegmentedColormap, ListedColormap, to_rgba\n\u001b[0;32m      7\u001b[0m __all__ \u001b[38;5;241m=\u001b[39m [\u001b[38;5;124m'\u001b[39m\u001b[38;5;124mcreate_transparent_cmap\u001b[39m\u001b[38;5;124m'\u001b[39m, \u001b[38;5;124m'\u001b[39m\u001b[38;5;124mgrass_cmap\u001b[39m\u001b[38;5;124m'\u001b[39m]\n",
      "File \u001b[1;32m~\\AppData\\Roaming\\Python\\Python39\\site-packages\\matplotlib\\__init__.py:130\u001b[0m, in \u001b[0;36m<module>\u001b[1;34m\u001b[0m\n\u001b[0;32m    126\u001b[0m                 \u001b[38;5;28;01mif\u001b[39;00m (\u001b[38;5;129;01mnot\u001b[39;00m is_pyinstaller \u001b[38;5;129;01mor\u001b[39;00m os\u001b[38;5;241m.\u001b[39mpath\u001b[38;5;241m.\u001b[39misfile(lib_path)) \u001b[38;5;129;01mand\u001b[39;00m \u001b[38;5;129;01mnot\u001b[39;00m ctypes\u001b[38;5;241m.\u001b[39mwindll\u001b[38;5;241m.\u001b[39mkernel32\u001b[38;5;241m.\u001b[39mLoadLibraryExW(ctypes\u001b[38;5;241m.\u001b[39mc_wchar_p(lib_path), \u001b[38;5;28;01mNone\u001b[39;00m, \u001b[38;5;241m0x00000008\u001b[39m):\n\u001b[0;32m    127\u001b[0m                     \u001b[38;5;28;01mraise\u001b[39;00m \u001b[38;5;167;01mOSError\u001b[39;00m(\u001b[38;5;124m'\u001b[39m\u001b[38;5;124mError loading \u001b[39m\u001b[38;5;132;01m{}\u001b[39;00m\u001b[38;5;124m; \u001b[39m\u001b[38;5;132;01m{}\u001b[39;00m\u001b[38;5;124m'\u001b[39m\u001b[38;5;241m.\u001b[39mformat(lib, ctypes\u001b[38;5;241m.\u001b[39mFormatError()))\n\u001b[1;32m--> 130\u001b[0m \u001b[43m_delvewheel_init_patch_1_3_3\u001b[49m\u001b[43m(\u001b[49m\u001b[43m)\u001b[49m\n\u001b[0;32m    131\u001b[0m \u001b[38;5;28;01mdel\u001b[39;00m _delvewheel_init_patch_1_3_3\n\u001b[0;32m    132\u001b[0m \u001b[38;5;66;03m# end delvewheel patch\u001b[39;00m\n",
      "File \u001b[1;32m~\\AppData\\Roaming\\Python\\Python39\\site-packages\\matplotlib\\__init__.py:118\u001b[0m, in \u001b[0;36m_delvewheel_init_patch_1_3_3\u001b[1;34m()\u001b[0m\n\u001b[0;32m    116\u001b[0m \u001b[38;5;28;01mif\u001b[39;00m sys\u001b[38;5;241m.\u001b[39mversion_info[:\u001b[38;5;241m2\u001b[39m] \u001b[38;5;241m>\u001b[39m\u001b[38;5;241m=\u001b[39m (\u001b[38;5;241m3\u001b[39m, \u001b[38;5;241m8\u001b[39m) \u001b[38;5;129;01mand\u001b[39;00m \u001b[38;5;129;01mnot\u001b[39;00m is_conda_cpython \u001b[38;5;129;01mor\u001b[39;00m sys\u001b[38;5;241m.\u001b[39mversion_info[:\u001b[38;5;241m2\u001b[39m] \u001b[38;5;241m>\u001b[39m\u001b[38;5;241m=\u001b[39m (\u001b[38;5;241m3\u001b[39m, \u001b[38;5;241m10\u001b[39m):\n\u001b[0;32m    117\u001b[0m     \u001b[38;5;28;01mif\u001b[39;00m \u001b[38;5;129;01mnot\u001b[39;00m is_pyinstaller \u001b[38;5;129;01mor\u001b[39;00m os\u001b[38;5;241m.\u001b[39mpath\u001b[38;5;241m.\u001b[39misdir(libs_dir):\n\u001b[1;32m--> 118\u001b[0m         \u001b[43mos\u001b[49m\u001b[38;5;241;43m.\u001b[39;49m\u001b[43madd_dll_directory\u001b[49m\u001b[43m(\u001b[49m\u001b[43mlibs_dir\u001b[49m\u001b[43m)\u001b[49m\n\u001b[0;32m    119\u001b[0m \u001b[38;5;28;01melse\u001b[39;00m:\n\u001b[0;32m    120\u001b[0m     load_order_filepath \u001b[38;5;241m=\u001b[39m os\u001b[38;5;241m.\u001b[39mpath\u001b[38;5;241m.\u001b[39mjoin(libs_dir, \u001b[38;5;124m'\u001b[39m\u001b[38;5;124m.load-order-matplotlib-3.7.1\u001b[39m\u001b[38;5;124m'\u001b[39m)\n",
      "File \u001b[1;32mc:\\Users\\RaymondCarpenter\\AppData\\Local\\Programs\\Python\\Python39\\lib\\os.py:1111\u001b[0m, in \u001b[0;36madd_dll_directory\u001b[1;34m(path)\u001b[0m\n\u001b[0;32m   1101\u001b[0m \u001b[38;5;124;03m\"\"\"Add a path to the DLL search path.\u001b[39;00m\n\u001b[0;32m   1102\u001b[0m \n\u001b[0;32m   1103\u001b[0m \u001b[38;5;124;03mThis search path is used when resolving dependencies for imported\u001b[39;00m\n\u001b[1;32m   (...)\u001b[0m\n\u001b[0;32m   1108\u001b[0m \u001b[38;5;124;03musing it in a with statement.\u001b[39;00m\n\u001b[0;32m   1109\u001b[0m \u001b[38;5;124;03m\"\"\"\u001b[39;00m\n\u001b[0;32m   1110\u001b[0m \u001b[38;5;28;01mimport\u001b[39;00m \u001b[38;5;21;01mnt\u001b[39;00m\n\u001b[1;32m-> 1111\u001b[0m cookie \u001b[38;5;241m=\u001b[39m \u001b[43mnt\u001b[49m\u001b[38;5;241;43m.\u001b[39;49m\u001b[43m_add_dll_directory\u001b[49m\u001b[43m(\u001b[49m\u001b[43mpath\u001b[49m\u001b[43m)\u001b[49m\n\u001b[0;32m   1112\u001b[0m \u001b[38;5;28;01mreturn\u001b[39;00m _AddedDllDirectory(\n\u001b[0;32m   1113\u001b[0m     path,\n\u001b[0;32m   1114\u001b[0m     cookie,\n\u001b[0;32m   1115\u001b[0m     nt\u001b[38;5;241m.\u001b[39m_remove_dll_directory\n\u001b[0;32m   1116\u001b[0m )\n",
      "\u001b[1;31mFileNotFoundError\u001b[0m: [WinError 2] The system cannot find the file specified: 'C:\\\\Users\\\\RaymondCarpenter\\\\AppData\\\\Roaming\\\\Python\\\\Python39\\\\site-packages\\\\matplotlib.libs'"
     ]
    }
   ],
   "source": [
    "from mplsoccer import PyPizza, add_image\n",
    "import pandas as pd\n",
    "import matplotlib.pyplot as plt\n",
    "from PIL import Image\n",
    "\n",
    "# Load the CSV file\n",
    "file_path = 'C:/Users/RaymondCarpenter/Documents/GitHub/14thstreetanalytics/sphere/dnc_sphere_data.csv'\n",
    "data = pd.read_csv(file_path)\n",
    "\n",
    "# Prepare the data for the pizza chart\n",
    "song_counts = data['Song'].value_counts()\n",
    "\n",
    "# Define the parameters and values for the pizza chart\n",
    "params = song_counts.index.tolist()\n",
    "values = song_counts.values.tolist()\n",
    "\n",
    "# Filter out 'Drums' and 'Space'\n",
    "filtered_params_values = [(p, v) for p, v in zip(params, values) if p not in ['Drums', 'Space']]\n",
    "params, values = zip(*filtered_params_values)\n",
    "\n",
    "# Limit the number of parameters to improve readability\n",
    "top_n = 20\n",
    "params = params[:top_n]\n",
    "values = values[:top_n]\n",
    "\n",
    "# Color for the slices and text\n",
    "slice_colors = [\"#24368a\"] * len(params)\n",
    "text_colors = [\"#F2F2F2\"] * len(params)\n",
    "\n",
    "# Define the min and max range lists\n",
    "min_range = [0] * len(params)\n",
    "max_range = [10] * len(params)  # Set max range to 10 for all parameters\n",
    "\n",
    "# Instantiate PyPizza class with specified range\n",
    "baker = PyPizza(\n",
    "    params=params,                  # list of parameters\n",
    "    background_color=\"#EBEBE9\",     # background color\n",
    "    straight_line_color=\"#EBEBE9\",  # color for straight lines\n",
    "    straight_line_lw=1,             # linewidth for straight lines\n",
    "    last_circle_lw=0,               # linewidth of last circle\n",
    "    other_circle_lw=1,              # linewidth for other circles\n",
    "    other_circle_ls=\"-.\",           # linestyle for other circles\n",
    "    inner_circle_size=18,           # size of inner circle\n",
    "    min_range=min_range,            # set the minimum range list\n",
    "    max_range=max_range             # set the maximum range list\n",
    ")\n",
    "\n",
    "# Plot pizza\n",
    "fig, ax = baker.make_pizza(\n",
    "    values,                          # list of values\n",
    "    figsize=(20, 18),                # increased figsize for better readability\n",
    "    color_blank_space=\"same\",        # use same color to fill blank space\n",
    "    slice_colors=slice_colors,       # color for individual slices\n",
    "    value_colors=text_colors,        # color for the value-text\n",
    "    value_bck_colors=slice_colors,   # color for the blank spaces\n",
    "    blank_alpha=0.3,                 # alpha for blank-space colors\n",
    "    kwargs_slices=dict(\n",
    "        edgecolor=\"#F2F2F2\", zorder=2, linewidth=1\n",
    "    ),                               # values to be used when plotting slices\n",
    "    kwargs_params=dict(\n",
    "        color=\"#000000\", fontsize=14,  # Adjusted font size for song names\n",
    "        va=\"center\",\n",
    "        fontfamily='sans-serif'\n",
    "    ),                               # values to be used when adding parameters\n",
    "    kwargs_values=dict(\n",
    "        color=\"#000000\", fontsize=14,  # Adjusted font size for values\n",
    "        zorder=3,\n",
    "        bbox=dict(\n",
    "            edgecolor=\"#000000\", facecolor=\"cornflowerblue\",\n",
    "            boxstyle=\"round,pad=0.2\", lw=1\n",
    "        ),\n",
    "        fontfamily='sans-serif'\n",
    "    )                                # values to be used when adding parameter-values\n",
    ")\n",
    "\n",
    "# Add title\n",
    "fig.text(\n",
    "    0.515, 0.975, \"Dead & Co. at The Sphere\", size=28,\n",
    "    ha=\"center\", color=\"#d6001f\",\n",
    "    fontdict={'family': 'sans-serif', 'weight': 'bold'}\n",
    ")\n",
    "\n",
    "# Add subtitle\n",
    "fig.text(\n",
    "    0.515, 0.953,\n",
    "    \"Top 20 Songs Frequency as of July 11, 2024\",\n",
    "    size=20,\n",
    "    ha=\"center\", color=\"#24368a\",\n",
    "    fontdict={'family': 'sans-serif', 'style': 'italic'}\n",
    ")\n",
    "\n",
    "# Find all songs that have been played only once\n",
    "one_play_songs = sorted(song_counts[song_counts == 1].index.tolist())\n",
    "one_play_songs_text = \"\\n\".join(one_play_songs)\n",
    "\n",
    "# Add credits with rarest songs\n",
    "CREDIT_2 = \"data: Setlist.fm | Viz by Ray Carpenter | 14thstreetanalytics.substack.com\"\n",
    "\n",
    "# Adjusting the text for bold style\n",
    "fig.text(\n",
    "    0.99, 0.02, f\"\\n{one_play_songs_text}\\n\\n{CREDIT_2}\", size=12,\n",
    "    ha=\"right\", color=\"#000000\",\n",
    "    fontdict={'family': 'sans-serif'}\n",
    ")\n",
    "fig.text(\n",
    "    0.99, 0.39, \"Songs played only once:\", size=12,\n",
    "    ha=\"right\", color=\"#000000\", weight='bold',\n",
    "    fontdict={'family': 'sans-serif'}\n",
    ")\n",
    "\n",
    "# Load the local image\n",
    "image_path = 'C:/Users/RaymondCarpenter/Documents/GitHub/14thstreetanalytics/sphere/dnc_logo.png'  # Replace with your local image path\n",
    "image = Image.open(image_path)\n",
    "\n",
    "# Add image\n",
    "ax_image = add_image(\n",
    "    image, fig, left=0.4, bottom=0.37, width=0.25, height=0.25\n",
    ")   # these values might differ when you are plotting\n",
    "\n",
    "plt.show()\n"
   ]
  },
  {
   "cell_type": "code",
   "execution_count": null,
   "metadata": {
    "vscode": {
     "languageId": "powershell"
    }
   },
   "outputs": [],
   "source": []
  },
  {
   "cell_type": "code",
   "execution_count": null,
   "metadata": {
    "vscode": {
     "languageId": "powershell"
    }
   },
   "outputs": [],
   "source": []
  },
  {
   "cell_type": "code",
   "execution_count": null,
   "metadata": {
    "vscode": {
     "languageId": "powershell"
    }
   },
   "outputs": [],
   "source": []
  },
  {
   "cell_type": "code",
   "execution_count": null,
   "metadata": {
    "vscode": {
     "languageId": "powershell"
    }
   },
   "outputs": [],
   "source": []
  },
  {
   "cell_type": "code",
   "execution_count": null,
   "metadata": {
    "vscode": {
     "languageId": "powershell"
    }
   },
   "outputs": [],
   "source": []
  },
  {
   "cell_type": "code",
   "execution_count": null,
   "metadata": {
    "vscode": {
     "languageId": "powershell"
    }
   },
   "outputs": [],
   "source": []
  },
  {
   "cell_type": "code",
   "execution_count": null,
   "metadata": {
    "vscode": {
     "languageId": "powershell"
    }
   },
   "outputs": [],
   "source": []
  },
  {
   "cell_type": "code",
   "execution_count": null,
   "metadata": {
    "vscode": {
     "languageId": "powershell"
    }
   },
   "outputs": [],
   "source": []
  },
  {
   "cell_type": "code",
   "execution_count": null,
   "metadata": {
    "vscode": {
     "languageId": "powershell"
    }
   },
   "outputs": [],
   "source": []
  }
 ],
 "metadata": {
  "kernelspec": {
   "display_name": "Python 3",
   "language": "python",
   "name": "python3"
  },
  "language_info": {
   "codemirror_mode": {
    "name": "ipython",
    "version": 3
   },
   "file_extension": ".py",
   "mimetype": "text/x-python",
   "name": "python",
   "nbconvert_exporter": "python",
   "pygments_lexer": "ipython3",
   "version": "3.9.13"
  }
 },
 "nbformat": 4,
 "nbformat_minor": 2
}
