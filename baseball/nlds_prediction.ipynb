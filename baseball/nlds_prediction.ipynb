{
 "cells": [
  {
   "cell_type": "code",
   "execution_count": 9,
   "metadata": {},
   "outputs": [
    {
     "name": "stdout",
     "output_type": "stream",
     "text": [
      "2024 Philadelphia Phillies: likely winner\n",
      "2024 New York Mets: likely loser\n"
     ]
    },
    {
     "name": "stderr",
     "output_type": "stream",
     "text": [
      "C:\\Users\\RaymondCarpenter\\AppData\\Local\\Temp\\ipykernel_40272\\1186252188.py:17: SettingWithCopyWarning: \n",
      "A value is trying to be set on a copy of a slice from a DataFrame.\n",
      "Try using .loc[row_indexer,col_indexer] = value instead\n",
      "\n",
      "See the caveats in the documentation: https://pandas.pydata.org/pandas-docs/stable/user_guide/indexing.html#returning-a-view-versus-a-copy\n",
      "  data_2024['ERA'] = -data_2024['ERA']\n"
     ]
    }
   ],
   "source": [
    "import pandas as pd\n",
    "\n",
    "# Load the data\n",
    "file_path = 'C:/Users/RaymondCarpenter/Documents/GitHub/14thstreetanalytics/baseball/ws_winners_2024_teams.csv'\n",
    "data = pd.read_csv(file_path)\n",
    "\n",
    "# Define the teams to compare\n",
    "teams_to_compare_2024 = ['2024 Philadelphia Phillies', '2024 New York Mets']\n",
    "\n",
    "# Filter data for the 2024 matchup\n",
    "data_2024 = data[data['Tm'].isin(teams_to_compare_2024)]\n",
    "\n",
    "# Define key metrics to compare\n",
    "key_metrics = ['WAR', 'OPS', 'ERA', 'R/G']  # Example key metrics\n",
    "\n",
    "# Reverse the order of ERA since a lower ERA is better\n",
    "data_2024['ERA'] = -data_2024['ERA']\n",
    "\n",
    "# Calculate the average of key metrics for each team\n",
    "team_scores = data_2024.set_index('Tm')[key_metrics].mean(axis=1)\n",
    "\n",
    "# Determine the likely winner by comparing scores\n",
    "winner = team_scores.idxmax()\n",
    "\n",
    "# Output the likely winner and runner-up\n",
    "for team in teams_to_compare_2024:\n",
    "    if team == winner:\n",
    "        print(f\"{team}: likely winner\")\n",
    "    else:\n",
    "        print(f\"{team}: likely loser\")\n"
   ]
  },
  {
   "cell_type": "code",
   "execution_count": 10,
   "metadata": {},
   "outputs": [
    {
     "name": "stdout",
     "output_type": "stream",
     "text": [
      "        Winning Teams Avg  Losing Teams Avg\n",
      "WAR                5.1250          10.27500\n",
      "OPS                0.7185           0.73625\n",
      "ERA                3.7975           3.70500\n",
      "R/G                4.5450           4.65000\n",
      "DefEff             0.7015           0.70150\n",
      "2024 Philadelphia Phillies: likely winner\n",
      "2024 New York Mets: likely loser\n"
     ]
    },
    {
     "name": "stderr",
     "output_type": "stream",
     "text": [
      "C:\\Users\\RaymondCarpenter\\AppData\\Local\\Temp\\ipykernel_40272\\2673770956.py:31: SettingWithCopyWarning: \n",
      "A value is trying to be set on a copy of a slice from a DataFrame.\n",
      "Try using .loc[row_indexer,col_indexer] = value instead\n",
      "\n",
      "See the caveats in the documentation: https://pandas.pydata.org/pandas-docs/stable/user_guide/indexing.html#returning-a-view-versus-a-copy\n",
      "  data_2024['ERA'] = -data_2024['ERA']\n"
     ]
    }
   ],
   "source": [
    "import pandas as pd\n",
    "\n",
    "# Load the data\n",
    "file_path = 'C:/Users/RaymondCarpenter/Documents/GitHub/14thstreetanalytics/baseball/ws_winners_2024_teams.csv'\n",
    "data = pd.read_csv(file_path)\n",
    "\n",
    "# Define the matchups for analysis\n",
    "winning_teams = ['2024 New York Mets', '2024 Detroit Tigers', '2024 San Diego Padres', '2024 Kansas City Royals']\n",
    "losing_teams = ['2024 Milwaukee Brewers', '2024 Houston Astros', '2024 Atlanta Braves', '2024 Baltimore Orioles']\n",
    "\n",
    "# Filter data for winning and losing teams\n",
    "data_winning = data[data['Tm'].isin(winning_teams)]\n",
    "data_losing = data[data['Tm'].isin(losing_teams)]\n",
    "\n",
    "# Define key metrics to compare\n",
    "key_metrics = ['WAR', 'OPS', 'ERA', 'R/G', 'DefEff']\n",
    "\n",
    "# Compare averages for winning and losing teams\n",
    "winning_avg = data_winning[key_metrics].mean()\n",
    "losing_avg = data_losing[key_metrics].mean()\n",
    "\n",
    "# Output the comparison to analyze trends\n",
    "comparison = pd.DataFrame({'Winning Teams Avg': winning_avg, 'Losing Teams Avg': losing_avg})\n",
    "print(comparison)\n",
    "\n",
    "# Prepare data for the 2024 Phillies vs Mets matchup\n",
    "teams_to_compare_2024 = ['2024 Philadelphia Phillies', '2024 New York Mets']\n",
    "data_2024 = data[data['Tm'].isin(teams_to_compare_2024)]\n",
    "\n",
    "# Reverse the order of ERA since a lower ERA is better\n",
    "data_2024['ERA'] = -data_2024['ERA']\n",
    "\n",
    "# Calculate the average of key metrics for each team\n",
    "team_scores = data_2024.set_index('Tm')[key_metrics].mean(axis=1)\n",
    "\n",
    "# Determine the likely winner by comparing scores\n",
    "winner = team_scores.idxmax()\n",
    "\n",
    "# Output the likely winner and runner-up\n",
    "for team in teams_to_compare_2024:\n",
    "    if team == winner:\n",
    "        print(f\"{team}: likely winner\")\n",
    "    else:\n",
    "        print(f\"{team}: likely loser\")\n"
   ]
  },
  {
   "cell_type": "code",
   "execution_count": null,
   "metadata": {},
   "outputs": [],
   "source": []
  },
  {
   "cell_type": "code",
   "execution_count": null,
   "metadata": {},
   "outputs": [],
   "source": []
  },
  {
   "cell_type": "code",
   "execution_count": null,
   "metadata": {},
   "outputs": [],
   "source": []
  },
  {
   "cell_type": "code",
   "execution_count": null,
   "metadata": {},
   "outputs": [],
   "source": []
  }
 ],
 "metadata": {
  "kernelspec": {
   "display_name": "Python 3",
   "language": "python",
   "name": "python3"
  },
  "language_info": {
   "codemirror_mode": {
    "name": "ipython",
    "version": 3
   },
   "file_extension": ".py",
   "mimetype": "text/x-python",
   "name": "python",
   "nbconvert_exporter": "python",
   "pygments_lexer": "ipython3",
   "version": "3.12.5"
  }
 },
 "nbformat": 4,
 "nbformat_minor": 2
}
