{
 "cells": [
  {
   "cell_type": "code",
   "execution_count": 11,
   "metadata": {},
   "outputs": [
    {
     "name": "stdout",
     "output_type": "stream",
     "text": [
      "Total missing values: 4\n",
      "Top 10 important features:\n",
      "   Feature  Importance\n",
      "0     #Bat    0.079689\n",
      "72       A    0.065120\n",
      "8       2B    0.064309\n",
      "24      SH    0.048978\n",
      "26     IBB    0.046263\n",
      "70      Ch    0.041278\n",
      "63    #Fld    0.038649\n",
      "56    WHIP    0.035667\n",
      "38      CG    0.034242\n",
      "28      #P    0.028252\n",
      "\n",
      "2024 Teams Ranked by World Series Win Probability:\n",
      "                             Tm  Win_Probability\n",
      "14  2024 Philadelphia Phillies             0.26\n",
      "15    2024 Los Angeles Dodgers             0.21\n",
      "18         2024 Detroit Tigers             0.16\n",
      "23       2024 New York Yankees             0.12\n",
      "22     2024 Kansas City Royals             0.12\n",
      "21      2024 Baltimore Orioles             0.11\n",
      "20    2024 Cleveland Guardians             0.11\n",
      "17       2024 San Diego Padres             0.10\n",
      "19         2024 Houston Astros             0.10\n",
      "16      2024 Milwaukee Brewers             0.06\n"
     ]
    },
    {
     "name": "stderr",
     "output_type": "stream",
     "text": [
      "C:\\Users\\RaymondCarpenter\\AppData\\Local\\Temp\\ipykernel_2444\\559307024.py:57: SettingWithCopyWarning: \n",
      "A value is trying to be set on a copy of a slice from a DataFrame.\n",
      "Try using .loc[row_indexer,col_indexer] = value instead\n",
      "\n",
      "See the caveats in the documentation: https://pandas.pydata.org/pandas-docs/stable/user_guide/indexing.html#returning-a-view-versus-a-copy\n",
      "  team_2024['Win_Probability'] = predictions\n"
     ]
    }
   ],
   "source": [
    "import pandas as pd\n",
    "from sklearn.ensemble import RandomForestClassifier\n",
    "from sklearn.preprocessing import StandardScaler\n",
    "\n",
    "# Step 1: Load the dataset\n",
    "file_path = 'C:/Users/RaymondCarpenter/Documents/GitHub/14thstreetanalytics/baseball/ws_winners_2024_teams.csv'\n",
    "data = pd.read_csv(file_path)\n",
    "\n",
    "# Step 3: Drop non-numeric columns and exclude 'ws_winner' from features\n",
    "numeric_data = data.select_dtypes(include=['float64', 'int64']).drop(columns=['ws_winner'])\n",
    "\n",
    "X = numeric_data  \n",
    "y = data['ws_winner']  \n",
    "\n",
    "# Check for missing values\n",
    "print(f\"Total missing values: {numeric_data.isna().sum().sum()}\")  \n",
    "\n",
    "\n",
    "X = X.fillna(X.median())\n",
    "\n",
    "scaler = StandardScaler()\n",
    "X_scaled = scaler.fit_transform(X)\n",
    "\n",
    "rf_clf = RandomForestClassifier(n_estimators=100, random_state=42)\n",
    "rf_clf.fit(X_scaled, y)\n",
    "\n",
    "feature_importances = rf_clf.feature_importances_\n",
    "important_features = pd.DataFrame({\n",
    "    'Feature': X.columns,\n",
    "    'Importance': feature_importances\n",
    "}).sort_values(by='Importance', ascending=False)\n",
    "\n",
    "print(\"Top 10 important features:\")\n",
    "print(important_features.head(10)) \n",
    "\n",
    "team_2024 = data[data['Tm'].str.contains(\"2024\")]\n",
    "\n",
    "team_2024_important = team_2024[X.columns]  \n",
    "\n",
    "team_2024_important_scaled = scaler.transform(team_2024_important)\n",
    "\n",
    "predictions = rf_clf.predict_proba(team_2024_important_scaled)[:, 1]\n",
    "\n",
    "team_2024['Win_Probability'] = predictions\n",
    "\n",
    "ranked_teams = team_2024[['Tm', 'Win_Probability']].sort_values(by='Win_Probability', ascending=False)\n",
    "\n",
    "print(\"\\n2024 Teams Ranked by World Series Win Probability:\\n\", ranked_teams)\n"
   ]
  },
  {
   "cell_type": "code",
   "execution_count": null,
   "metadata": {},
   "outputs": [],
   "source": []
  },
  {
   "cell_type": "code",
   "execution_count": null,
   "metadata": {},
   "outputs": [],
   "source": []
  },
  {
   "cell_type": "code",
   "execution_count": null,
   "metadata": {},
   "outputs": [],
   "source": []
  },
  {
   "cell_type": "code",
   "execution_count": null,
   "metadata": {},
   "outputs": [],
   "source": []
  },
  {
   "cell_type": "code",
   "execution_count": null,
   "metadata": {},
   "outputs": [],
   "source": []
  },
  {
   "cell_type": "code",
   "execution_count": null,
   "metadata": {},
   "outputs": [],
   "source": []
  },
  {
   "cell_type": "code",
   "execution_count": null,
   "metadata": {},
   "outputs": [],
   "source": []
  },
  {
   "cell_type": "code",
   "execution_count": null,
   "metadata": {},
   "outputs": [],
   "source": []
  }
 ],
 "metadata": {
  "kernelspec": {
   "display_name": "Python 3",
   "language": "python",
   "name": "python3"
  },
  "language_info": {
   "codemirror_mode": {
    "name": "ipython",
    "version": 3
   },
   "file_extension": ".py",
   "mimetype": "text/x-python",
   "name": "python",
   "nbconvert_exporter": "python",
   "pygments_lexer": "ipython3",
   "version": "3.12.5"
  }
 },
 "nbformat": 4,
 "nbformat_minor": 2
}
