{
 "cells": [
  {
   "cell_type": "code",
   "execution_count": 7,
   "metadata": {},
   "outputs": [
    {
     "name": "stdout",
     "output_type": "stream",
     "text": [
      "                        Andy     Jason      Mike\n",
      "EPA+CPOE Composite -0.987501  0.399342 -0.089778\n",
      "Adj. EPA/Play      -1.359620  0.064239 -0.702269\n",
      "EPA/Play           -1.384715  0.009360 -0.832031\n",
      "Success Rate       -2.305772 -1.851779 -2.239593\n",
      "Cmp%               -0.641909  0.383843  0.131787\n",
      "Expected Cmp%      -1.266538 -1.752022 -1.940152\n",
      "CPOE                0.027599  1.222247  1.075453\n",
      "Air Yards          -0.007416  0.031698  0.590916\n"
     ]
    }
   ],
   "source": [
    "import pandas as pd\n",
    "from sklearn.preprocessing import StandardScaler\n",
    "from sklearn.linear_model import LinearRegression\n",
    "import numpy as np\n",
    "\n",
    "# Read the data from a CSV file\n",
    "df = pd.read_csv('2024FFBallers_QBs.csv')\n",
    "\n",
    "# Drop rows where there are missing values to ensure a clean correlation analysis\n",
    "df_cleaned = df.dropna()\n",
    "\n",
    "# Extract the rankers' columns and the stats columns\n",
    "rankers = df_cleaned[['Andy', 'Jason', 'Mike']]\n",
    "stats = df_cleaned.drop(columns=['Name', 'Andy', 'Jason', 'Mike'])\n",
    "\n",
    "# Standardize the statistics to ensure comparability\n",
    "scaler = StandardScaler()\n",
    "stats_scaled = scaler.fit_transform(stats)\n",
    "\n",
    "# Measure the correlation using linear regression (similar to Pearson correlation)\n",
    "def calculate_correlations(rankers, stats_scaled):\n",
    "    correlations = {}\n",
    "    for ranker in rankers.columns:\n",
    "        correlations[ranker] = {}\n",
    "        for i, stat in enumerate(stats.columns):\n",
    "            model = LinearRegression()\n",
    "            model.fit(stats_scaled[:, i].reshape(-1, 1), rankers[ranker])\n",
    "            correlations[ranker][stat] = model.coef_[0]\n",
    "    return correlations\n",
    "\n",
    "correlations = calculate_correlations(rankers, stats_scaled)\n",
    "\n",
    "# Convert the correlations to a DataFrame for better readability\n",
    "correlation_df = pd.DataFrame(correlations)\n",
    "\n",
    "print(correlation_df)\n"
   ]
  },
  {
   "cell_type": "code",
   "execution_count": null,
   "metadata": {},
   "outputs": [],
   "source": []
  },
  {
   "cell_type": "code",
   "execution_count": null,
   "metadata": {},
   "outputs": [],
   "source": []
  },
  {
   "cell_type": "code",
   "execution_count": null,
   "metadata": {},
   "outputs": [],
   "source": []
  },
  {
   "cell_type": "code",
   "execution_count": null,
   "metadata": {},
   "outputs": [],
   "source": []
  }
 ],
 "metadata": {
  "kernelspec": {
   "display_name": "Python 3",
   "language": "python",
   "name": "python3"
  },
  "language_info": {
   "codemirror_mode": {
    "name": "ipython",
    "version": 3
   },
   "file_extension": ".py",
   "mimetype": "text/x-python",
   "name": "python",
   "nbconvert_exporter": "python",
   "pygments_lexer": "ipython3",
   "version": "3.12.5"
  }
 },
 "nbformat": 4,
 "nbformat_minor": 2
}
