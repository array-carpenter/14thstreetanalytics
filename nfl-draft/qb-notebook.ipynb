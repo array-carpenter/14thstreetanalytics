{
 "cells": [
  {
   "cell_type": "code",
   "execution_count": 14,
   "metadata": {},
   "outputs": [
    {
     "name": "stdout",
     "output_type": "stream",
     "text": [
      "Devin Leary: Most similar to Ryan Nassib\n",
      "Michael Penix: Most similar to Derek Carr\n",
      "Spencer Rattler: Most similar to Brock Purdy\n",
      "J.J. McCarthy: Most similar to Zach Wilson\n",
      "Joe Milton III: Most similar to Carson Wentz\n",
      "Caleb Williams: Most similar to Sam Howell\n",
      "Sam Hartman: Most similar to Clayton Tune\n",
      "Michael Pratt: Most similar to Jevan Snead\n",
      "Drake Maye: Most similar to Blake Bortles\n",
      "Bo Nix: Most similar to Colt McCoy\n",
      "Jordan Travis: Most similar to Dustin Crum\n",
      "Jayden Daniels: Most similar to Jalen Hurts\n"
     ]
    }
   ],
   "source": [
    "import pandas as pd\n",
    "from sklearn.neighbors import NearestNeighbors\n",
    "from sklearn.impute import SimpleImputer\n",
    "from sklearn.preprocessing import StandardScaler\n",
    "\n",
    "# Load the dataset\n",
    "file_path = 'C:/Users/RaymondCarpenter/Documents/GitHub/14thstreetanalytics/nfl-draft/qb_sheet.csv'\n",
    "df = pd.read_csv(file_path)\n",
    "\n",
    "# Filter for the 2023 draft class and other draft classes\n",
    "draft_class_2023 = df[df['draft_class'] == 2024]\n",
    "other_draft_classes = df[df['draft_class'] != 2024]\n",
    "\n",
    "# Selecting relevant numeric features for comparison\n",
    "numeric_features = draft_class_2023.select_dtypes(include=['float64', 'int64']).columns.to_list()\n",
    "numeric_features.remove('draft_class')  # Removing 'draft_class' as it's the same for all\n",
    "\n",
    "# Handling missing values with mean imputation for both datasets\n",
    "imputer = SimpleImputer(strategy='mean')\n",
    "draft_class_2023_imputed = imputer.fit_transform(draft_class_2023[numeric_features])\n",
    "other_draft_classes_imputed = imputer.transform(other_draft_classes[numeric_features])\n",
    "\n",
    "# Normalizing the data for both datasets\n",
    "scaler = StandardScaler()\n",
    "draft_class_2023_scaled = scaler.fit_transform(draft_class_2023_imputed)\n",
    "other_draft_classes_scaled = scaler.transform(other_draft_classes_imputed)\n",
    "\n",
    "# Using Nearest Neighbors to find the most similar player from other draft classes\n",
    "nbrs = NearestNeighbors(n_neighbors=1)  # Only the closest neighbor\n",
    "nbrs.fit(other_draft_classes_scaled)\n",
    "\n",
    "# Finding the nearest player for each 2023 draft class player\n",
    "distances, indices = nbrs.kneighbors(draft_class_2023_scaled)\n",
    "\n",
    "# Creating a mapping of 2023 draft class players to their most similar counterparts from other draft classes\n",
    "similar_players_cross_class = {}\n",
    "for i in range(len(draft_class_2023)):\n",
    "    player_index = indices[i][0]  # Index 0 as we're now comparing with a different class\n",
    "    player_name = draft_class_2023.iloc[i]['name']\n",
    "    similar_player_name = other_draft_classes.iloc[player_index]['name']\n",
    "    similar_players_cross_class[player_name] = similar_player_name\n",
    "\n",
    "# Displaying the mapping\n",
    "for player, similar_player in similar_players_cross_class.items():\n",
    "    print(f\"{player}: Most similar to {similar_player}\")\n"
   ]
  },
  {
   "cell_type": "code",
   "execution_count": null,
   "metadata": {},
   "outputs": [],
   "source": []
  },
  {
   "cell_type": "code",
   "execution_count": null,
   "metadata": {},
   "outputs": [],
   "source": []
  },
  {
   "cell_type": "code",
   "execution_count": null,
   "metadata": {},
   "outputs": [],
   "source": []
  },
  {
   "cell_type": "code",
   "execution_count": null,
   "metadata": {},
   "outputs": [],
   "source": []
  },
  {
   "cell_type": "code",
   "execution_count": null,
   "metadata": {},
   "outputs": [],
   "source": []
  },
  {
   "cell_type": "code",
   "execution_count": null,
   "metadata": {},
   "outputs": [],
   "source": []
  },
  {
   "cell_type": "code",
   "execution_count": null,
   "metadata": {},
   "outputs": [],
   "source": []
  },
  {
   "cell_type": "code",
   "execution_count": null,
   "metadata": {},
   "outputs": [],
   "source": []
  },
  {
   "cell_type": "code",
   "execution_count": null,
   "metadata": {},
   "outputs": [],
   "source": []
  },
  {
   "cell_type": "code",
   "execution_count": null,
   "metadata": {},
   "outputs": [],
   "source": []
  },
  {
   "cell_type": "code",
   "execution_count": null,
   "metadata": {},
   "outputs": [],
   "source": []
  }
 ],
 "metadata": {
  "kernelspec": {
   "display_name": "Python 3",
   "language": "python",
   "name": "python3"
  },
  "language_info": {
   "codemirror_mode": {
    "name": "ipython",
    "version": 3
   },
   "file_extension": ".py",
   "mimetype": "text/x-python",
   "name": "python",
   "nbconvert_exporter": "python",
   "pygments_lexer": "ipython3",
   "version": "3.9.13"
  }
 },
 "nbformat": 4,
 "nbformat_minor": 2
}
