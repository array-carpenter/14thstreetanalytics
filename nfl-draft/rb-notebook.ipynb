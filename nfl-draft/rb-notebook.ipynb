{
 "cells": [
  {
   "cell_type": "code",
   "execution_count": 26,
   "metadata": {},
   "outputs": [
    {
     "name": "stdout",
     "output_type": "stream",
     "text": [
      "    2024_Player Most_Similar_Non_2024_Cosine_Normalized\n",
      "2  Bucky Irving                            Jerrion Ealy\n"
     ]
    }
   ],
   "source": [
    "import pandas as pd\n",
    "from sklearn.preprocessing import StandardScaler\n",
    "from sklearn.metrics.pairwise import cosine_similarity\n",
    "\n",
    "file_path = 'C:/Users/RaymondCarpenter/Documents/GitHub/14thstreetanalytics/nfl-draft/rb_sheet.csv'\n",
    "data = pd.read_csv(file_path)\n",
    "\n",
    "numeric_columns = data.select_dtypes(include='number').columns\n",
    "percentiles = data[numeric_columns].apply(lambda x: x.rank(pct=True))\n",
    "data_with_percentiles = pd.concat([data, percentiles.add_suffix('_percentile')], axis=1)\n",
    "\n",
    "normalized_fields = ['rush_attempts', 'rush_yards', 'rush_td', 'receptions', 'rec_yards', 'rec_td']\n",
    "for field in normalized_fields:\n",
    "    data_with_percentiles[field + '_per_game'] = data_with_percentiles[field] / data_with_percentiles['games_played']\n",
    "\n",
    "normalized_features = ['height_in', 'weight_lbs', '40_yard_dash'] + [f + '_per_game' for f in normalized_fields]\n",
    "players_2024 = data_with_percentiles[data_with_percentiles['draft_class'] == 2024].dropna(subset=normalized_features)\n",
    "players_not_2024 = data_with_percentiles[data_with_percentiles['draft_class'] != 2024].dropna(subset=normalized_features)\n",
    "\n",
    "scaler = StandardScaler()\n",
    "features_2024_normalized = scaler.fit_transform(players_2024[normalized_features])\n",
    "features_not_2024_normalized = scaler.transform(players_not_2024[normalized_features])\n",
    "\n",
    "cosine_similarities_normalized = cosine_similarity(features_2024_normalized, features_not_2024_normalized)\n",
    "closest_indices_cosine_normalized = cosine_similarities_normalized.argmax(axis=1)\n",
    "closest_players_cosine_normalized = players_not_2024.iloc[closest_indices_cosine_normalized]['name'].values\n",
    "\n",
    "similar_players_mapping_cosine_normalized = pd.DataFrame({\n",
    "    '2024_Player': players_2024['name'].values,\n",
    "    'Most_Similar_Non_2024_Cosine_Normalized': closest_players_cosine_normalized\n",
    "})\n",
    "\n",
    "player_name = input(\"Enter a 2024 player name to find the most similar player from non-2024 classes: \")\n",
    "player_info = similar_players_mapping_cosine_normalized[similar_players_mapping_cosine_normalized['2024_Player'].str.contains(player_name, case=False)]\n",
    "if player_info.empty:\n",
    "    print(\"Player not found or no similar player available.\")\n",
    "else:\n",
    "    print(player_info)\n"
   ]
  },
  {
   "cell_type": "code",
   "execution_count": null,
   "metadata": {},
   "outputs": [],
   "source": []
  },
  {
   "cell_type": "code",
   "execution_count": null,
   "metadata": {},
   "outputs": [],
   "source": []
  },
  {
   "cell_type": "code",
   "execution_count": null,
   "metadata": {},
   "outputs": [],
   "source": []
  },
  {
   "cell_type": "code",
   "execution_count": null,
   "metadata": {},
   "outputs": [],
   "source": []
  },
  {
   "cell_type": "code",
   "execution_count": null,
   "metadata": {},
   "outputs": [],
   "source": []
  },
  {
   "cell_type": "code",
   "execution_count": null,
   "metadata": {},
   "outputs": [],
   "source": []
  },
  {
   "cell_type": "code",
   "execution_count": null,
   "metadata": {},
   "outputs": [],
   "source": []
  }
 ],
 "metadata": {
  "kernelspec": {
   "display_name": "Python 3",
   "language": "python",
   "name": "python3"
  },
  "language_info": {
   "codemirror_mode": {
    "name": "ipython",
    "version": 3
   },
   "file_extension": ".py",
   "mimetype": "text/x-python",
   "name": "python",
   "nbconvert_exporter": "python",
   "pygments_lexer": "ipython3",
   "version": "3.9.13"
  }
 },
 "nbformat": 4,
 "nbformat_minor": 2
}
